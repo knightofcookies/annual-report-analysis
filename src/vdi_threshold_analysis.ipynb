{
 "cells": [
  {
   "cell_type": "code",
   "execution_count": 1,
   "metadata": {},
   "outputs": [],
   "source": [
    "import pandas as pd\n",
    "import numpy as np\n",
    "from sklearn.preprocessing import StandardScaler\n",
    "\n",
    "scaler = StandardScaler()\n",
    "\n",
    "model_df = pd.read_csv(\"../csv/vdi_entailment_scores_with_cosine_similarity_chunk_size_256_all-MiniLM-L6-v2.csv\")\n",
    "model_df = model_df.sort_values(by=['company', 'year'])\n",
    "\n",
    "manual_df = pd.read_csv(\"../csv/vdi_scores_manual.csv\")\n",
    "manual_df = manual_df.sort_values(by=['company', 'year'])"
   ]
  },
  {
   "cell_type": "code",
   "execution_count": 2,
   "metadata": {},
   "outputs": [],
   "source": [
    "for i in range(1, 70):\n",
    "    cols = [f'entailment_q{i}_{j}' for j in range(1, 11)]\n",
    "    model_df[f'entailment_q{i}'] = model_df[cols].max(axis=1)"
   ]
  },
  {
   "cell_type": "code",
   "execution_count": 5,
   "metadata": {},
   "outputs": [],
   "source": [
    "cols = [f'entailment_q{i}' for i in range(1, 70)]\n",
    "X = model_df.loc[:, cols].to_numpy()\n",
    "# X = model_df.iloc[:, 2:2+69*10].to_numpy()\n",
    "y = manual_df.iloc[:, -1].to_numpy()\n",
    "\n",
    "X_train = np.delete(X, np.s_[28:33], axis=0)\n",
    "X_test = X[28:33, :]\n",
    "y_train = np.delete(y, np.s_[28:33])\n",
    "y_test = y[28:33]"
   ]
  },
  {
   "cell_type": "code",
   "execution_count": 6,
   "metadata": {},
   "outputs": [],
   "source": [
    "y_train = scaler.fit_transform(y_train.reshape(-1, 1))\n",
    "y_test = scaler.transform(y_test.reshape(-1, 1))"
   ]
  },
  {
   "cell_type": "code",
   "execution_count": 7,
   "metadata": {},
   "outputs": [
    {
     "name": "stdout",
     "output_type": "stream",
     "text": [
      "Intercept: [-51.51799985]\n",
      "Slope: [[-10.3482547 ]\n",
      " [ 29.00402649]\n",
      " [  5.10419911]\n",
      " [ -0.35573886]\n",
      " [ -0.93938472]\n",
      " [  4.84194835]\n",
      " [ -8.30909886]\n",
      " [  5.33147344]\n",
      " [ -1.06591202]\n",
      " [ -8.21747503]\n",
      " [  0.22506856]\n",
      " [ -2.09482872]\n",
      " [  6.96244267]\n",
      " [ -1.18677951]\n",
      " [ -3.33185306]\n",
      " [  7.64735662]\n",
      " [-17.57854169]\n",
      " [  7.81446538]\n",
      " [  1.41557298]\n",
      " [  6.74325298]\n",
      " [ -0.51114898]\n",
      " [ -0.89519905]\n",
      " [ 12.84601898]\n",
      " [ -4.71321025]\n",
      " [ -1.69092449]\n",
      " [  2.43708852]\n",
      " [ -4.02533274]\n",
      " [ -0.67219678]\n",
      " [ 21.6017137 ]\n",
      " [ 13.86217807]\n",
      " [ -3.59746373]\n",
      " [ -4.46091769]\n",
      " [-11.19081498]\n",
      " [ -4.93370779]\n",
      " [  8.96708346]\n",
      " [  6.25900447]\n",
      " [ -0.83195138]\n",
      " [ -9.07631319]\n",
      " [  1.40181941]\n",
      " [ 17.69962877]\n",
      " [-14.49377384]\n",
      " [  5.82422283]\n",
      " [ -1.81974562]\n",
      " [  0.68817642]\n",
      " [ -8.70011274]\n",
      " [ -4.56981698]\n",
      " [  7.05157745]\n",
      " [  1.99248222]\n",
      " [  6.82781547]\n",
      " [ 18.92513191]\n",
      " [ -5.65836276]\n",
      " [-13.11630781]\n",
      " [-31.29697494]\n",
      " [ 13.75235988]\n",
      " [  6.3365767 ]\n",
      " [  1.10354155]\n",
      " [  5.37240046]\n",
      " [  4.60295725]\n",
      " [  9.65084833]\n",
      " [  1.06136889]\n",
      " [  8.84965586]\n",
      " [-18.07087413]\n",
      " [ -0.70617659]\n",
      " [ 13.81712218]\n",
      " [-14.20505979]\n",
      " [  4.57794458]\n",
      " [-10.23923644]\n",
      " [  2.81429   ]\n",
      " [ -0.51459371]]\n"
     ]
    }
   ],
   "source": [
    "X_train_with_intercept = np.hstack((np.ones((X_train.shape[0], 1)), X_train))\n",
    "\n",
    "coefficients = np.linalg.inv(X_train_with_intercept.T @ X_train_with_intercept) @ X_train_with_intercept.T @ y_train\n",
    "\n",
    "intercept = coefficients[0]\n",
    "slope = coefficients[1:]\n",
    "\n",
    "print(\"Intercept:\", intercept)\n",
    "print(\"Slope:\", slope)"
   ]
  },
  {
   "cell_type": "code",
   "execution_count": 8,
   "metadata": {},
   "outputs": [],
   "source": [
    "coefficients = coefficients.reshape(1, -1)"
   ]
  },
  {
   "cell_type": "code",
   "execution_count": 9,
   "metadata": {},
   "outputs": [
    {
     "data": {
      "text/plain": [
       "array([[ 6.35131834,  2.44535735, -2.24605114, -7.49383811, -0.61038944]])"
      ]
     },
     "execution_count": 9,
     "metadata": {},
     "output_type": "execute_result"
    }
   ],
   "source": [
    "X_test_with_intercept = np.hstack((np.ones((X_test.shape[0], 1)), X_test))\n",
    "\n",
    "y_pred = coefficients @ X_test_with_intercept.T\n",
    "y_pred"
   ]
  },
  {
   "cell_type": "code",
   "execution_count": 10,
   "metadata": {},
   "outputs": [
    {
     "data": {
      "text/plain": [
       "array([[-2.52850228, -2.80620437, -2.16196667, -1.99874984, -2.27585219,\n",
       "        -2.55727498, -2.42064006, -2.36040959, -2.60925683, -2.12471576,\n",
       "        -1.73649715, -1.12340646, -1.17239557, -1.03280533, -1.91417444,\n",
       "         3.09484262, -2.8089964 , -2.3836536 , -2.19571684, -2.70021154,\n",
       "        -2.1097591 , -1.69256215, -1.95322477, -2.09546938, -3.31707987,\n",
       "        -2.62547966, -2.7016445 , -2.32842336, -3.37424049, -3.58740306,\n",
       "        -3.06511115, -3.5444082 , -2.83888363, -1.77303222, -1.3555702 ,\n",
       "        -1.14689591, -0.24047502, -0.79269288, -3.46389168, -3.00787081,\n",
       "        -2.37773558, -2.20429106, -2.64262191]])"
      ]
     },
     "execution_count": 10,
     "metadata": {},
     "output_type": "execute_result"
    }
   ],
   "source": [
    "coefficients @ X_train_with_intercept.T"
   ]
  },
  {
   "cell_type": "code",
   "execution_count": 11,
   "metadata": {},
   "outputs": [
    {
     "data": {
      "text/plain": [
       "array([[-5.38691816],\n",
       "       [-1.35351948],\n",
       "       [ 3.4653267 ],\n",
       "       [ 8.71311367],\n",
       "       [ 1.95710268]])"
      ]
     },
     "execution_count": 11,
     "metadata": {},
     "output_type": "execute_result"
    }
   ],
   "source": [
    "y_test - y_pred.reshape(-1, 1)"
   ]
  },
  {
   "cell_type": "code",
   "execution_count": 12,
   "metadata": {},
   "outputs": [
    {
     "name": "stdout",
     "output_type": "stream",
     "text": [
      "Mean Squared Error: 2.6763\n",
      "R² Score: -157.4555\n"
     ]
    },
    {
     "name": "stderr",
     "output_type": "stream",
     "text": [
      "/Users/ahlad/Documents/GitHub/annual-report-analysis/.venv/lib/python3.12/site-packages/sklearn/utils/validation.py:1408: DataConversionWarning: A column-vector y was passed when a 1d array was expected. Please change the shape of y to (n_samples, ), for example using ravel().\n",
      "  y = column_or_1d(y, warn=True)\n"
     ]
    }
   ],
   "source": [
    "from sklearn.svm import SVR\n",
    "from sklearn.model_selection import train_test_split\n",
    "from sklearn.metrics import mean_squared_error, r2_score\n",
    "\n",
    "# Train SVR model\n",
    "svr = SVR(kernel='rbf', C=1.0, epsilon=0.1)\n",
    "svr.fit(X_train, y_train)\n",
    "\n",
    "# Make predictions\n",
    "y_pred = svr.predict(X_test)\n",
    "\n",
    "# Calculate metrics\n",
    "y_test = y_test.squeeze()\n",
    "mse = mean_squared_error(y_test, y_pred)\n",
    "r2 = r2_score(y_test, y_pred)\n",
    "\n",
    "print(f\"Mean Squared Error: {mse:.4f}\")\n",
    "print(f\"R² Score: {r2:.4f}\")"
   ]
  },
  {
   "cell_type": "code",
   "execution_count": 13,
   "metadata": {},
   "outputs": [
    {
     "data": {
      "text/plain": [
       "array([[41.22687939],\n",
       "       [38.47059369],\n",
       "       [38.3066222 ],\n",
       "       [38.94218063],\n",
       "       [37.7684718 ]])"
      ]
     },
     "execution_count": 13,
     "metadata": {},
     "output_type": "execute_result"
    }
   ],
   "source": [
    "scaler.inverse_transform(np.expand_dims(y_pred, axis=1))"
   ]
  },
  {
   "cell_type": "code",
   "execution_count": 14,
   "metadata": {},
   "outputs": [
    {
     "data": {
      "text/plain": [
       "array([[50.],\n",
       "       [51.],\n",
       "       [52.],\n",
       "       [52.],\n",
       "       [53.]])"
      ]
     },
     "execution_count": 14,
     "metadata": {},
     "output_type": "execute_result"
    }
   ],
   "source": [
    "scaler.inverse_transform(np.expand_dims(y_test, axis=1))"
   ]
  },
  {
   "cell_type": "code",
   "execution_count": 24,
   "metadata": {},
   "outputs": [
    {
     "name": "stdout",
     "output_type": "stream",
     "text": [
      "          company  year  VDI_score\n",
      "7   Bharti Airtel  2015         55\n",
      "26  Bharti Airtel  2016         62\n",
      "38  Bharti Airtel  2017         46\n",
      "40  Bharti Airtel  2018         52\n",
      "46     Coal India  2014         55\n",
      "1      Coal India  2015         53\n",
      "34     Coal India  2016         53\n",
      "22     Coal India  2017         49\n",
      "39     Coal India  2018         49\n",
      "36            HUL  2014         46\n",
      "33            HUL  2015         52\n",
      "41            HUL  2016         51\n",
      "28            HUL  2017         53\n",
      "8             HUL  2018         51\n",
      "3             ITC  2014         54\n",
      "12            ITC  2015         56\n",
      "43            ITC  2016         50\n",
      "37            ITC  2017         52\n",
      "47            ITC  2018         52\n",
      "5         Infosys  2014         50\n",
      "4         Infosys  2015         55\n",
      "13        Infosys  2016         50\n",
      "24        Infosys  2017         50\n",
      "15        Infosys  2018         46\n",
      "11           ONGC  2014         51\n",
      "14           ONGC  2015         51\n",
      "9            ONGC  2017         49\n",
      "2            ONGC  2018         53\n",
      "19            RIL  2014         51\n",
      "44            RIL  2015         52\n",
      "29            RIL  2016         52\n",
      "20            RIL  2017         51\n",
      "10            RIL  2018         52\n",
      "30            TCS  2014         55\n",
      "42            TCS  2015         53\n",
      "17            TCS  2016         53\n",
      "27            TCS  2017         52\n",
      "35            TCS  2018         49\n",
      "31    Tata Motors  2014         59\n",
      "0     Tata Motors  2015         58\n",
      "6     Tata Motors  2016         56\n",
      "16    Tata Motors  2017         55\n",
      "25    Tata Motors  2018         53\n",
      "18          Wipro  2014         44\n",
      "23          Wipro  2015         55\n",
      "32          Wipro  2016         54\n",
      "21          Wipro  2017         54\n",
      "45          Wipro  2018         55\n"
     ]
    }
   ],
   "source": [
    "THRESHOLD = 0.8\n",
    "vdi_scores = (model_df.loc[:, cols] > THRESHOLD).sum(axis=1)\n",
    "model_df['VDI_score'] = vdi_scores\n",
    "print(model_df[['company', 'year', 'VDI_score']])"
   ]
  }
 ],
 "metadata": {
  "kernelspec": {
   "display_name": ".venv",
   "language": "python",
   "name": "python3"
  },
  "language_info": {
   "codemirror_mode": {
    "name": "ipython",
    "version": 3
   },
   "file_extension": ".py",
   "mimetype": "text/x-python",
   "name": "python",
   "nbconvert_exporter": "python",
   "pygments_lexer": "ipython3",
   "version": "3.12.0"
  }
 },
 "nbformat": 4,
 "nbformat_minor": 2
}
