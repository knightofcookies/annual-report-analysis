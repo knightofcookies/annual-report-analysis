{
 "cells": [
  {
   "cell_type": "code",
   "execution_count": 1,
   "metadata": {},
   "outputs": [],
   "source": [
    "import pandas as pd\n",
    "import numpy as np\n",
    "from sklearn.preprocessing import StandardScaler\n",
    "\n",
    "scaler = StandardScaler()\n",
    "\n",
    "model_df = pd.read_csv(\"../csv/vdi_entailment_scores_with_cosine_similarity_chunk_size_256_all-MiniLM-L6-v2.csv\")\n",
    "model_df = model_df.sort_values(by=['company', 'year'])\n",
    "\n",
    "manual_df = pd.read_csv(\"../csv/vdi_scores_manual.csv\")\n",
    "manual_df = manual_df.sort_values(by=['company', 'year'])"
   ]
  },
  {
   "cell_type": "code",
   "execution_count": 2,
   "metadata": {},
   "outputs": [],
   "source": [
    "for i in range(1, 70):\n",
    "    cols = [f'entailment_q{i}_{j}' for j in range(1, 11)]\n",
    "    model_df[f'entailment_q{i}'] = model_df[cols].max(axis=1)"
   ]
  },
  {
   "cell_type": "code",
   "execution_count": 3,
   "metadata": {},
   "outputs": [],
   "source": [
    "new_df = pd.merge(\n",
    "    manual_df,\n",
    "    model_df,\n",
    "    on=['company', 'year'],\n",
    "    how='inner'\n",
    ")\n",
    "\n",
    "cols = ['company', 'year', 'vdi_score_unscaled']\n",
    "for i in range(1, 70):\n",
    "    cols.append(f'entailment_q{i}')\n",
    "new_df = new_df.loc[:, cols]\n",
    "# new_df.to_csv(\"../csv/vdi_entailment_dataset.csv\", index=False)"
   ]
  },
  {
   "cell_type": "code",
   "execution_count": 4,
   "metadata": {},
   "outputs": [],
   "source": [
    "cols = [f'entailment_q{i}' for i in range(1, 70)]\n",
    "X = new_df.loc[:, cols].to_numpy()\n",
    "y = new_df.loc[:, \"vdi_score_unscaled\"].to_numpy()\n",
    "\n",
    "X_train = np.delete(X, np.s_[16:18], axis=0)\n",
    "X_test = X[16:18, :]\n",
    "y_train = np.delete(y, np.s_[16:18])\n",
    "y_test = y[16:18]"
   ]
  },
  {
   "cell_type": "code",
   "execution_count": 5,
   "metadata": {},
   "outputs": [],
   "source": [
    "y_train = scaler.fit_transform(y_train.reshape(-1, 1))\n",
    "y_test = scaler.transform(y_test.reshape(-1, 1))"
   ]
  },
  {
   "cell_type": "code",
   "execution_count": 6,
   "metadata": {},
   "outputs": [
    {
     "name": "stdout",
     "output_type": "stream",
     "text": [
      "Intercept: [-22.39011149]\n",
      "Slope: [[ 11.29778298]\n",
      " [ 10.79574443]\n",
      " [  3.41834433]\n",
      " [  5.58864425]\n",
      " [ -4.32193415]\n",
      " [ -5.25428983]\n",
      " [  2.06618439]\n",
      " [-36.92678564]\n",
      " [  7.78523744]\n",
      " [-23.64556798]\n",
      " [ 24.77772559]\n",
      " [ 43.09183816]\n",
      " [  1.61337315]\n",
      " [ 48.08648804]\n",
      " [-16.5703355 ]\n",
      " [ -4.17835274]\n",
      " [ -6.75141628]\n",
      " [ -2.72856776]\n",
      " [ 25.38296066]\n",
      " [ 10.66715322]\n",
      " [  4.19878394]\n",
      " [ -0.52750714]\n",
      " [-22.04948909]\n",
      " [-10.49935283]\n",
      " [-16.29216952]\n",
      " [  9.81223109]\n",
      " [ 11.94383533]\n",
      " [  4.03953047]\n",
      " [-15.98929379]\n",
      " [-16.15342618]\n",
      " [-12.40320197]\n",
      " [  5.39786527]\n",
      " [ -0.19913607]\n",
      " [-15.50785262]\n",
      " [  2.13092002]\n",
      " [  8.04998763]\n",
      " [  7.80881989]\n",
      " [ -8.22423158]\n",
      " [  0.52079842]\n",
      " [  3.25512744]\n",
      " [ -6.75074681]\n",
      " [  5.47219581]\n",
      " [ 12.45359986]\n",
      " [ -3.94303   ]\n",
      " [ -4.37817188]\n",
      " [ -7.06599351]\n",
      " [  5.8605584 ]\n",
      " [  4.30842253]\n",
      " [  9.18943641]\n",
      " [  0.53374792]\n",
      " [ -2.57050316]\n",
      " [ 17.64208775]\n",
      " [-21.60571873]\n",
      " [-13.24782285]\n",
      " [  5.14181334]\n",
      " [  2.5482462 ]\n",
      " [ -7.8856416 ]\n",
      " [ -3.24230754]\n",
      " [  5.52496278]\n",
      " [-11.85255872]\n",
      " [ -0.32592787]\n",
      " [ 12.91730024]\n",
      " [ -9.2675191 ]\n",
      " [ -9.42769298]\n",
      " [  0.88866385]\n",
      " [  6.68723583]\n",
      " [ -0.96984848]\n",
      " [ -1.66561259]\n",
      " [  2.12612933]]\n"
     ]
    }
   ],
   "source": [
    "X_train_with_intercept = np.hstack((np.ones((X_train.shape[0], 1)), X_train))\n",
    "\n",
    "coefficients = np.linalg.inv(X_train_with_intercept.T @ X_train_with_intercept) @ X_train_with_intercept.T @ y_train\n",
    "\n",
    "intercept = coefficients[0]\n",
    "slope = coefficients[1:]\n",
    "\n",
    "print(\"Intercept:\", intercept)\n",
    "print(\"Slope:\", slope)"
   ]
  },
  {
   "cell_type": "code",
   "execution_count": 7,
   "metadata": {},
   "outputs": [],
   "source": [
    "coefficients = coefficients.reshape(1, -1)"
   ]
  },
  {
   "cell_type": "code",
   "execution_count": 8,
   "metadata": {},
   "outputs": [
    {
     "data": {
      "text/plain": [
       "array([[-15.5907475 ,  -1.25204021]])"
      ]
     },
     "execution_count": 8,
     "metadata": {},
     "output_type": "execute_result"
    }
   ],
   "source": [
    "X_test_with_intercept = np.hstack((np.ones((X_test.shape[0], 1)), X_test))\n",
    "\n",
    "y_pred = coefficients @ X_test_with_intercept.T\n",
    "y_pred"
   ]
  },
  {
   "cell_type": "code",
   "execution_count": 9,
   "metadata": {},
   "outputs": [
    {
     "data": {
      "text/plain": [
       "array([[2.26290017, 2.47993452, 1.79200774, 2.32277943, 1.71873781,\n",
       "        2.02586916, 2.6509348 , 2.28900182, 2.01958218, 2.29470147,\n",
       "        2.44465893, 2.98099651, 3.38142518, 2.84951221, 1.88991216,\n",
       "        7.01559193, 2.27119261, 1.82700155, 2.63758488, 3.31518755,\n",
       "        3.10333084, 2.71028992, 1.09900237, 1.63668432, 1.65316935,\n",
       "        2.20769576, 3.02651892, 3.50017425, 3.60657353, 3.59721634,\n",
       "        3.61473675, 1.56387952, 1.44337516, 1.26159609, 1.46793588,\n",
       "        2.39858232]])"
      ]
     },
     "execution_count": 9,
     "metadata": {},
     "output_type": "execute_result"
    }
   ],
   "source": [
    "coefficients @ X_train_with_intercept.T"
   ]
  },
  {
   "cell_type": "code",
   "execution_count": 10,
   "metadata": {},
   "outputs": [
    {
     "data": {
      "text/plain": [
       "array([[14.95684553],\n",
       "       [ 1.09374936]])"
      ]
     },
     "execution_count": 10,
     "metadata": {},
     "output_type": "execute_result"
    }
   ],
   "source": [
    "y_test - y_pred.reshape(-1, 1)"
   ]
  },
  {
   "cell_type": "code",
   "execution_count": 11,
   "metadata": {},
   "outputs": [
    {
     "name": "stdout",
     "output_type": "stream",
     "text": [
      "Mean Squared Error: 0.2765\n",
      "R² Score: -3.8894\n"
     ]
    },
    {
     "name": "stderr",
     "output_type": "stream",
     "text": [
      "c:\\Users\\ahlad\\Documents\\GitHub\\annual-report-analysis\\.venv\\Lib\\site-packages\\sklearn\\utils\\validation.py:1408: DataConversionWarning: A column-vector y was passed when a 1d array was expected. Please change the shape of y to (n_samples, ), for example using ravel().\n",
      "  y = column_or_1d(y, warn=True)\n"
     ]
    }
   ],
   "source": [
    "from sklearn.svm import SVR\n",
    "from sklearn.model_selection import train_test_split\n",
    "from sklearn.metrics import mean_squared_error, r2_score\n",
    "\n",
    "# Train SVR model\n",
    "svr = SVR(kernel='rbf', C=1.0, epsilon=0.1)\n",
    "svr.fit(X_train, y_train)\n",
    "\n",
    "# Make predictions\n",
    "y_pred = svr.predict(X_test)\n",
    "\n",
    "# Calculate metrics\n",
    "y_test = y_test.squeeze()\n",
    "mse = mean_squared_error(y_test, y_pred)\n",
    "r2 = r2_score(y_test, y_pred)\n",
    "\n",
    "print(f\"Mean Squared Error: {mse:.4f}\")\n",
    "print(f\"R² Score: {r2:.4f}\")"
   ]
  },
  {
   "cell_type": "code",
   "execution_count": 12,
   "metadata": {},
   "outputs": [
    {
     "data": {
      "text/plain": [
       "array([[43.97036792],\n",
       "       [43.82129391]])"
      ]
     },
     "execution_count": 12,
     "metadata": {},
     "output_type": "execute_result"
    }
   ],
   "source": [
    "scaler.inverse_transform(np.expand_dims(y_pred, axis=1))"
   ]
  },
  {
   "cell_type": "code",
   "execution_count": 13,
   "metadata": {},
   "outputs": [
    {
     "data": {
      "text/plain": [
       "array([[38.    ],\n",
       "       [41.9934]])"
      ]
     },
     "execution_count": 13,
     "metadata": {},
     "output_type": "execute_result"
    }
   ],
   "source": [
    "scaler.inverse_transform(np.expand_dims(y_test, axis=1))"
   ]
  },
  {
   "cell_type": "code",
   "execution_count": 14,
   "metadata": {},
   "outputs": [
    {
     "name": "stdout",
     "output_type": "stream",
     "text": [
      "          company  year  VDI_score\n",
      "0   Bharti Airtel  2015         55\n",
      "1   Bharti Airtel  2016         62\n",
      "2   Bharti Airtel  2017         46\n",
      "3   Bharti Airtel  2018         52\n",
      "4      Coal India  2014         55\n",
      "5      Coal India  2015         53\n",
      "6      Coal India  2016         53\n",
      "7      Coal India  2017         49\n",
      "8      Coal India  2018         49\n",
      "9             HUL  2014         46\n",
      "10            HUL  2015         52\n",
      "11            HUL  2016         51\n",
      "12            HUL  2017         53\n",
      "13            HUL  2018         51\n",
      "14            ITC  2014         54\n",
      "15            ITC  2015         56\n",
      "16            ITC  2016         50\n",
      "17            ITC  2017         52\n",
      "18            ITC  2018         52\n",
      "19        Infosys  2014         50\n",
      "20        Infosys  2015         55\n",
      "21        Infosys  2016         50\n",
      "22        Infosys  2017         50\n",
      "23        Infosys  2018         46\n",
      "24           ONGC  2014         51\n",
      "25           ONGC  2015         51\n",
      "26           ONGC  2017         49\n",
      "27           ONGC  2018         53\n",
      "28            RIL  2014         51\n",
      "29            RIL  2015         52\n",
      "30            RIL  2016         52\n",
      "31            RIL  2017         51\n",
      "32            RIL  2018         52\n",
      "33            TCS  2014         55\n",
      "34            TCS  2015         53\n",
      "35            TCS  2016         53\n",
      "36            TCS  2017         52\n",
      "37            TCS  2018         49\n",
      "38    Tata Motors  2014         59\n",
      "39    Tata Motors  2015         58\n",
      "40    Tata Motors  2016         56\n",
      "41    Tata Motors  2017         55\n",
      "42    Tata Motors  2018         53\n",
      "43          Wipro  2014         44\n",
      "44          Wipro  2015         55\n",
      "45          Wipro  2016         54\n",
      "46          Wipro  2017         54\n",
      "47          Wipro  2018         55\n"
     ]
    }
   ],
   "source": [
    "THRESHOLD = 0.8\n",
    "vdi_scores = (model_df.loc[:, cols] > THRESHOLD).sum(axis=1)\n",
    "model_df['VDI_score'] = vdi_scores\n",
    "print(model_df[['company', 'year', 'VDI_score']])"
   ]
  }
 ],
 "metadata": {
  "kernelspec": {
   "display_name": ".venv",
   "language": "python",
   "name": "python3"
  },
  "language_info": {
   "codemirror_mode": {
    "name": "ipython",
    "version": 3
   },
   "file_extension": ".py",
   "mimetype": "text/x-python",
   "name": "python",
   "nbconvert_exporter": "python",
   "pygments_lexer": "ipython3",
   "version": "3.12.8"
  }
 },
 "nbformat": 4,
 "nbformat_minor": 2
}
